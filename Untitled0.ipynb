{
  "nbformat": 4,
  "nbformat_minor": 0,
  "metadata": {
    "colab": {
      "provenance": [],
      "authorship_tag": "ABX9TyMHch+MI1bEXCnXPSHoUJUW",
      "include_colab_link": true
    },
    "kernelspec": {
      "name": "python3",
      "display_name": "Python 3"
    },
    "language_info": {
      "name": "python"
    }
  },
  "cells": [
    {
      "cell_type": "markdown",
      "metadata": {
        "id": "view-in-github",
        "colab_type": "text"
      },
      "source": [
        "<a href=\"https://colab.research.google.com/github/Deise-sp/DIO-Bootcamp/blob/main/Untitled0.ipynb\" target=\"_parent\"><img src=\"https://colab.research.google.com/assets/colab-badge.svg\" alt=\"Open In Colab\"/></a>"
      ]
    },
    {
      "cell_type": "code",
      "source": [
        "pip install requests python-docx\n"
      ],
      "metadata": {
        "id": "JnAFHfEtXPxE",
        "colab": {
          "base_uri": "https://localhost:8080/"
        },
        "outputId": "afdbff38-3968-4024-e26e-18d5bd1565f1"
      },
      "execution_count": 2,
      "outputs": [
        {
          "output_type": "stream",
          "name": "stdout",
          "text": [
            "Requirement already satisfied: requests in /usr/local/lib/python3.10/dist-packages (2.32.3)\n",
            "Collecting python-docx\n",
            "  Downloading python_docx-1.1.2-py3-none-any.whl.metadata (2.0 kB)\n",
            "Requirement already satisfied: charset-normalizer<4,>=2 in /usr/local/lib/python3.10/dist-packages (from requests) (3.4.0)\n",
            "Requirement already satisfied: idna<4,>=2.5 in /usr/local/lib/python3.10/dist-packages (from requests) (3.10)\n",
            "Requirement already satisfied: urllib3<3,>=1.21.1 in /usr/local/lib/python3.10/dist-packages (from requests) (2.2.3)\n",
            "Requirement already satisfied: certifi>=2017.4.17 in /usr/local/lib/python3.10/dist-packages (from requests) (2024.8.30)\n",
            "Requirement already satisfied: lxml>=3.1.0 in /usr/local/lib/python3.10/dist-packages (from python-docx) (5.3.0)\n",
            "Requirement already satisfied: typing-extensions>=4.9.0 in /usr/local/lib/python3.10/dist-packages (from python-docx) (4.12.2)\n",
            "Downloading python_docx-1.1.2-py3-none-any.whl (244 kB)\n",
            "\u001b[2K   \u001b[90m━━━━━━━━━━━━━━━━━━━━━━━━━━━━━━━━━━━━━━━━\u001b[0m \u001b[32m244.3/244.3 kB\u001b[0m \u001b[31m3.5 MB/s\u001b[0m eta \u001b[36m0:00:00\u001b[0m\n",
            "\u001b[?25hInstalling collected packages: python-docx\n",
            "Successfully installed python-docx-1.1.2\n"
          ]
        }
      ]
    },
    {
      "cell_type": "code",
      "source": [
        "\n",
        "import requests\n",
        "from docx import Document\n",
        "import os\n",
        "\n",
        "subscription_key = \"jg03maKPw7NmvIkTAd1B3J5JPXH9qRKfFHZ06CIn5DuWLjhuOdeMJQQJ99AKACHYHv6XJ3w3AAAbACOGQdtc\"\n",
        "endpoint = \"https://api.cognitive.microsofttranslator.com\"\n",
        "location = \"eastus2\"\n",
        "language_destination = \"pt-br\"\n",
        "\n",
        "def translator_text(text, target_language):\n",
        "  path = \"/translate\"\n",
        "  constructed_url = endpoint + path\n",
        "  headers = {\n",
        "    \"Ocp-Apim-Subscription-Key\": subscription_key,\n",
        "    \"Ocp-Apim-Subscription-Region\": location,\n",
        "    \"Content-type\": \"application/json\",\n",
        "    \"x-ClientTraceId\": str(os.urandom(16))\n",
        "  }\n",
        "\n",
        "  body = [\n",
        "    {\n",
        "      \"text\": text\n",
        "    }\n",
        "  ]\n",
        "  params = {\n",
        "      \"api-version\": \"3.0\",\n",
        "      \"from\": \"en\",\n",
        "      \"to\": target_language\n",
        "\n",
        "}\n",
        "  request = requests.post(constructed_url, params=params, headers=headers, json=body)\n",
        "\n",
        "\n",
        "  Response = request.json()\n",
        "  return Response[0][\"translations\"][0][\"text\"]\n"
      ],
      "metadata": {
        "id": "2WFe1LoO2-_w"
      },
      "execution_count": 3,
      "outputs": []
    },
    {
      "cell_type": "code",
      "source": [
        "translator_text (\"I know you're somewhere\", language_destination)"
      ],
      "metadata": {
        "colab": {
          "base_uri": "https://localhost:8080/",
          "height": 35
        },
        "id": "3GWOLhVtEv8g",
        "outputId": "dbbc7a58-b4be-448d-8a4d-8f8515d1b571"
      },
      "execution_count": 4,
      "outputs": [
        {
          "output_type": "execute_result",
          "data": {
            "text/plain": [
              "'Eu sei que você está em algum lugar'"
            ],
            "application/vnd.google.colaboratory.intrinsic+json": {
              "type": "string"
            }
          },
          "metadata": {},
          "execution_count": 4
        }
      ]
    },
    {
      "cell_type": "code",
      "source": [
        "def translate_document(path):\n",
        "  document = Document(path)\n",
        "  full_text = []\n",
        "  for paragraph in document.paragraphs:\n",
        "    translate_text = translator_text(paragraph.text, language_destination)\n",
        "    full_text.append(translate_text)\n",
        "\n",
        "    translated_doc = Document()\n",
        "    for line in full_text:\n",
        "      print(line)\n",
        "      translated_doc.add_paragraph(line)\n",
        "    path_translated = path.replace(\".docx\", f\"-{language_destination}.docx\")\n",
        "    translated_doc.save(path_translated)\n",
        "    return path_translated\n",
        "\n"
      ],
      "metadata": {
        "id": "xjjcagtZFpHI"
      },
      "execution_count": 5,
      "outputs": []
    },
    {
      "cell_type": "code",
      "source": [
        "input_file = \"/content/I know you're somewhere out thereSomewhere far awayI want yo (2).docx\"\n",
        "translate_document(input_file)"
      ],
      "metadata": {
        "colab": {
          "base_uri": "https://localhost:8080/",
          "height": 851
        },
        "id": "fGZ7140dIp2L",
        "outputId": "1cb29e25-41f8-4b94-90a2-a38e19223f7a"
      },
      "execution_count": 7,
      "outputs": [
        {
          "output_type": "stream",
          "name": "stdout",
          "text": [
            "\n",
            "Eu sei que você está em algum lugar lá fora\n",
            "Em algum lugar distante\n",
            "Eu quero você de volta\n",
            "Eu quero você de volta\n",
            "Meus vizinhos acham que eu sou louco\n",
            "Mas eles não entendem\n",
            "Você é tudo que eu tinha\n",
            "Você é tudo que eu tinha\n",
            "À noite, quando as estrelas iluminam meu quarto\n",
            "Eu sento sozinho\n",
            "Conversando com a Lua\n",
            "Try'na chegar até você\n",
            "Na esperança de que você esteja do outro lado\n",
            "Falando comigo também\n",
            "Ou eu sou um tolo que se senta sozinho\n",
            "Falando com a Lua?\n",
            "Oh, oh\n",
            "Estou me sentindo como se fosse famoso\n",
            "O assunto da cidade\n",
            "Eles dizem que eu enlouqueci\n",
            "Sim, eu enlouqueci\n",
            "Mas eles não sabem o que eu sei\n",
            "Porque quando o sol se põe\n",
            "Alguém está respondendo\n",
            "Sim, eles estão respondendo, oh\n",
            "À noite, quando as estrelas iluminam meu quarto\n",
            "Eu sento sozinho\n",
            "Conversando com a Lua\n",
            "Try'na chegar até você\n",
            "Na esperança de que você esteja do outro lado\n",
            "Falando comigo também\n",
            "Ou eu sou um tolo que se senta sozinho\n",
            "Falando com a Lua?\n",
            "Ah, ah, ah\n",
            "Você já me ouviu chamando?\n",
            "Oh-oh-oh, oh-oh-oh (ah, ah, ah)\n",
            "Porque todas as noites\n",
            "Estou falando com a Lua\n",
            "Ainda tentando chegar até você\n",
            "Na esperança de que você esteja do outro lado\n",
            "Falando comigo também\n",
            "Ou eu sou um tolo que se senta sozinho\n",
            "Falando com a Lua?\n",
            "Oh, oh\n",
            "Eu sei que você está em algum lugar lá fora\n",
            "Em algum lugar distante\n"
          ]
        },
        {
          "output_type": "execute_result",
          "data": {
            "text/plain": [
              "\"/content/I know you're somewhere out thereSomewhere far awayI want yo (2)-pt-br.docx\""
            ],
            "application/vnd.google.colaboratory.intrinsic+json": {
              "type": "string"
            }
          },
          "metadata": {},
          "execution_count": 7
        }
      ]
    }
  ]
}